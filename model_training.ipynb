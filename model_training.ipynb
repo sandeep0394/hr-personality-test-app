{
 "cells": [
  {
   "cell_type": "code",
   "execution_count": 1,
   "id": "fea25954",
   "metadata": {},
   "outputs": [
    {
     "name": "stdout",
     "output_type": "stream",
     "text": [
      "Accuracy: 0.9189655172413793\n",
      "Classification Report:\n",
      "              precision    recall  f1-score   support\n",
      "\n",
      "   Introvert       0.93      0.91      0.92       302\n",
      "   Extrovert       0.91      0.92      0.92       278\n",
      "\n",
      "    accuracy                           0.92       580\n",
      "   macro avg       0.92      0.92      0.92       580\n",
      "weighted avg       0.92      0.92      0.92       580\n",
      "\n"
     ]
    }
   ],
   "source": [
    "import pandas as pd\n",
    "from sklearn.model_selection import train_test_split\n",
    "from sklearn.preprocessing import LabelEncoder\n",
    "from sklearn.ensemble import RandomForestClassifier\n",
    "from sklearn.metrics import classification_report, accuracy_score\n",
    "\n",
    "# Load data\n",
    "df = pd.read_csv(\"personality_dataset.csv\")\n",
    "\n",
    "# Encode categorical variables\n",
    "le = LabelEncoder()\n",
    "df['Stage_fear'] = le.fit_transform(df['Stage_fear'])  # Yes=1, No=0\n",
    "df['Drained_after_socializing'] = le.fit_transform(df['Drained_after_socializing'])\n",
    "df['Personality'] = le.fit_transform(df['Personality'])  # Extrovert=1, Introvert=0\n",
    "\n",
    "# Features and Target\n",
    "X = df.drop('Personality', axis=1)\n",
    "y = df['Personality']\n",
    "\n",
    "# Train-Test Split\n",
    "X_train, X_test, y_train, y_test = train_test_split(X, y, test_size=0.2, random_state=42)\n",
    "\n",
    "# Train model\n",
    "model = RandomForestClassifier()\n",
    "model.fit(X_train, y_train)\n",
    "\n",
    "# Predictions\n",
    "y_pred = model.predict(X_test)\n",
    "\n",
    "# Evaluation\n",
    "print(\"Accuracy:\", accuracy_score(y_test, y_pred))\n",
    "print(\"Classification Report:\")\n",
    "print(classification_report(y_test, y_pred, target_names=['Introvert', 'Extrovert']))\n",
    "import pickle\n",
    "\n",
    "with open(\"personality_model.pkl\", \"wb\") as f:\n",
    "    pickle.dump(model, f)\n",
    "\n"
   ]
  }
 ],
 "metadata": {
  "kernelspec": {
   "display_name": "base",
   "language": "python",
   "name": "python3"
  },
  "language_info": {
   "codemirror_mode": {
    "name": "ipython",
    "version": 3
   },
   "file_extension": ".py",
   "mimetype": "text/x-python",
   "name": "python",
   "nbconvert_exporter": "python",
   "pygments_lexer": "ipython3",
   "version": "3.12.4"
  }
 },
 "nbformat": 4,
 "nbformat_minor": 5
}
